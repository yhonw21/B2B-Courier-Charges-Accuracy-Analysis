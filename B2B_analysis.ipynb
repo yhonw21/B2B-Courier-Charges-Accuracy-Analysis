{
 "cells": [
  {
   "cell_type": "markdown",
   "metadata": {},
   "source": [
    "# B2B Courier Charges Accuracy Analysis using Python\n",
    "\n",
    "In today's fast-paced e-commerced industry, fast and efficient order delivery is crucial to business success. To ensure seamless order fulfilment, businesses often partner with courier companies to ship their products to customers. However, managing the charges collected by these courier companies can be difficult, especially when dealing with a high volumen of orders. It is one of the real-time problems B2B businesses experience when their estimated charges for the same invoice don't match.\n",
    "\n",
    "Original project Aman Kharwal"
   ]
  },
  {
   "cell_type": "markdown",
   "metadata": {},
   "source": [
    "B2B courier charges accuracy analysis focuses on assessing the accuracy of fees charges by courier companies for the delivery of goods in B2B transactions. The aim is to ensure that companies are billed appropriately for the services provided by courier companies.\n",
    "\n",
    "It is one of the problems that will help you use most of you skills in working with data. \n"
   ]
  },
  {
   "cell_type": "markdown",
   "metadata": {},
   "source": [
    "Let's start this task by importing the neccesary Python libraries and the dataset"
   ]
  },
  {
   "cell_type": "code",
   "execution_count": 1,
   "metadata": {},
   "outputs": [
    {
     "name": "stdout",
     "output_type": "stream",
     "text": [
      "Order Report:\n",
      "   ExternOrderNo            SKU  Order Qty  Unnamed: 3  Unnamed: 4\n",
      "0     2001827036  8904223818706        1.0         NaN         NaN\n",
      "1     2001827036  8904223819093        1.0         NaN         NaN\n",
      "2     2001827036  8904223819109        1.0         NaN         NaN\n",
      "3     2001827036  8904223818430        1.0         NaN         NaN\n",
      "4     2001827036  8904223819277        1.0         NaN         NaN\n",
      "\n",
      "SKU Master:\n",
      "             SKU  Weight (g)  Unnamed: 2  Unnamed: 3  Unnamed: 4\n",
      "0  8904223815682         210         NaN         NaN         NaN\n",
      "1  8904223815859         165         NaN         NaN         NaN\n",
      "2  8904223815866         113         NaN         NaN         NaN\n",
      "3  8904223815873          65         NaN         NaN         NaN\n",
      "4  8904223816214         120         NaN         NaN         NaN\n",
      "\n",
      "Pincode Mapping:\n",
      "   Warehouse Pincode  Customer Pincode Zone  Unnamed: 3  Unnamed: 4\n",
      "0             121003            507101    d         NaN         NaN\n",
      "1             121003            486886    d         NaN         NaN\n",
      "2             121003            532484    d         NaN         NaN\n",
      "3             121003            143001    b         NaN         NaN\n",
      "4             121003            515591    d         NaN         NaN\n",
      "\n",
      "Courier Invoice:\n",
      "        AWB Code    Order ID  Charged Weight  Warehouse Pincode  \\\n",
      "0  1091117222124  2001806232            1.30             121003   \n",
      "1  1091117222194  2001806273            1.00             121003   \n",
      "2  1091117222931  2001806408            2.50             121003   \n",
      "3  1091117223244  2001806458            1.00             121003   \n",
      "4  1091117229345  2001807012            0.15             121003   \n",
      "\n",
      "   Customer Pincode Zone Type of Shipment  Billing Amount (Rs.)  \n",
      "0            507101    d  Forward charges                 135.0  \n",
      "1            486886    d  Forward charges                  90.2  \n",
      "2            532484    d  Forward charges                 224.6  \n",
      "3            143001    b  Forward charges                  61.3  \n",
      "4            515591    d  Forward charges                  45.4  \n",
      "\n",
      "Courier Company rates:\n",
      "   fwd_a_fixed  fwd_a_additional  fwd_b_fixed  fwd_b_additional  fwd_c_fixed  \\\n",
      "0         29.5              23.6           33              28.3         40.1   \n",
      "\n",
      "   fwd_c_additional  fwd_d_fixed  fwd_d_additional  fwd_e_fixed  \\\n",
      "0              38.9         45.4              44.8         56.6   \n",
      "\n",
      "   fwd_e_additional  rto_a_fixed  rto_a_additional  rto_b_fixed  \\\n",
      "0              55.5         13.6              23.6         20.5   \n",
      "\n",
      "   rto_b_additional  rto_c_fixed  rto_c_additional  rto_d_fixed  \\\n",
      "0              28.3         31.9              38.9         41.3   \n",
      "\n",
      "   rto_d_additional  rto_e_fixed  rto_e_additional  \n",
      "0              44.8         50.7              55.5  \n"
     ]
    }
   ],
   "source": [
    "import pandas as pd\n",
    "\n",
    "order_report = pd.read_csv('Order Report.csv')\n",
    "sku_master = pd.read_csv('SKU Master.csv')\n",
    "pincode_mapping = pd.read_csv('pincodes.csv')\n",
    "courier_invoice = pd.read_csv('Invoice.csv')\n",
    "courier_company_rates = pd.read_csv('Courier Company - Rates.csv')\n",
    "\n",
    "print(\"Order Report:\")\n",
    "print(order_report.head())\n",
    "print(\"\\nSKU Master:\")\n",
    "print(sku_master.head())\n",
    "print(\"\\nPincode Mapping:\")\n",
    "print(pincode_mapping.head())\n",
    "print(\"\\nCourier Invoice:\")\n",
    "print(courier_invoice.head())\n",
    "print(\"\\nCourier Company rates:\")\n",
    "print(courier_company_rates.head())"
   ]
  },
  {
   "cell_type": "markdown",
   "metadata": {},
   "source": [
    "Now let's have a look if any of the data contains missing values:"
   ]
  },
  {
   "cell_type": "code",
   "execution_count": 2,
   "metadata": {},
   "outputs": [
    {
     "name": "stdout",
     "output_type": "stream",
     "text": [
      "\n",
      "Missing values in Website Order Report:\n",
      "ExternOrderNo      0\n",
      "SKU                0\n",
      "Order Qty          0\n",
      "Unnamed: 3       400\n",
      "Unnamed: 4       400\n",
      "dtype: int64\n",
      "\n",
      "Missing values in SKU Master:\n",
      "SKU            0\n",
      "Weight (g)     0\n",
      "Unnamed: 2    66\n",
      "Unnamed: 3    66\n",
      "Unnamed: 4    66\n",
      "dtype: int64\n",
      "\n",
      "Missing values in Pincode Mapping:\n",
      "Warehouse Pincode      0\n",
      "Customer Pincode       0\n",
      "Zone                   0\n",
      "Unnamed: 3           124\n",
      "Unnamed: 4           124\n",
      "dtype: int64\n",
      "\n",
      "Missing values in Courier Invoice:\n",
      "AWB Code                0\n",
      "Order ID                0\n",
      "Charged Weight          0\n",
      "Warehouse Pincode       0\n",
      "Customer Pincode        0\n",
      "Zone                    0\n",
      "Type of Shipment        0\n",
      "Billing Amount (Rs.)    0\n",
      "dtype: int64\n",
      "\n",
      "Missing values in courier company rates:\n",
      "fwd_a_fixed         0\n",
      "fwd_a_additional    0\n",
      "fwd_b_fixed         0\n",
      "fwd_b_additional    0\n",
      "fwd_c_fixed         0\n",
      "fwd_c_additional    0\n",
      "fwd_d_fixed         0\n",
      "fwd_d_additional    0\n",
      "fwd_e_fixed         0\n",
      "fwd_e_additional    0\n",
      "rto_a_fixed         0\n",
      "rto_a_additional    0\n",
      "rto_b_fixed         0\n",
      "rto_b_additional    0\n",
      "rto_c_fixed         0\n",
      "rto_c_additional    0\n",
      "rto_d_fixed         0\n",
      "rto_d_additional    0\n",
      "rto_e_fixed         0\n",
      "rto_e_additional    0\n",
      "dtype: int64\n"
     ]
    }
   ],
   "source": [
    "#Check for missing values:\n",
    "\n",
    "print(\"\\nMissing values in Website Order Report:\")\n",
    "print(order_report.isnull().sum())\n",
    "print(\"\\nMissing values in SKU Master:\")\n",
    "print(sku_master.isnull().sum())\n",
    "print(\"\\nMissing values in Pincode Mapping:\")\n",
    "print(pincode_mapping.isnull().sum())\n",
    "print(\"\\nMissing values in Courier Invoice:\")\n",
    "print(courier_invoice.isnull().sum())\n",
    "print(\"\\nMissing values in courier company rates:\")\n",
    "print(courier_company_rates.isnull().sum())"
   ]
  },
  {
   "cell_type": "markdown",
   "metadata": {},
   "source": [
    "Now let's clean the data:"
   ]
  },
  {
   "cell_type": "code",
   "execution_count": 3,
   "metadata": {},
   "outputs": [],
   "source": [
    "# Removed unnamed columns from the Website Order Report Dataframe\n",
    "order_report = order_report.drop(columns=['Unnamed: 3', 'Unnamed: 4'])\n",
    "\n",
    "# Removed unnamed columns from the SKU Master DataFrame\n",
    "sku_master = sku_master.drop(columns=['Unnamed: 2', 'Unnamed: 3', 'Unnamed: 4'])\n",
    "\n",
    "# Removed unnamed columns from the Pincode Mapping DataFrame\n",
    "pincode_mapping = pincode_mapping.drop(columns=['Unnamed: 3', 'Unnamed: 4'])"
   ]
  },
  {
   "cell_type": "markdown",
   "metadata": {},
   "source": [
    "Now let's merge the order report and SKU master datasets according to the common SKU column:"
   ]
  },
  {
   "cell_type": "code",
   "execution_count": 4,
   "metadata": {},
   "outputs": [
    {
     "name": "stdout",
     "output_type": "stream",
     "text": [
      "   ExternOrderNo            SKU  Order Qty  Weight (g)\n",
      "0     2001827036  8904223818706        1.0         127\n",
      "1     2001821995  8904223818706        1.0         127\n",
      "2     2001819252  8904223818706        1.0         127\n",
      "3     2001816996  8904223818706        1.0         127\n",
      "4     2001814580  8904223818706        1.0         127\n"
     ]
    }
   ],
   "source": [
    "# Merge the Order Report and SKU Master based on SKU\n",
    "\n",
    "merged_data = pd.merge(order_report, sku_master, on='SKU')\n",
    "print(merged_data.head())"
   ]
  },
  {
   "cell_type": "markdown",
   "metadata": {},
   "source": [
    "The 'ExternOrderNo' is nothing but 'Order Id' in other datasets. Let's rename this column"
   ]
  },
  {
   "cell_type": "code",
   "execution_count": 5,
   "metadata": {},
   "outputs": [],
   "source": [
    "# Rename the \"ExternOrderNo\" column to \"Order ID\" in the merged_data DataFrame\n",
    "merged_data = merged_data.rename(columns={'ExternOrderNo': 'Order ID'})"
   ]
  },
  {
   "cell_type": "markdown",
   "metadata": {},
   "source": [
    "Now let's merge the courier invoice and pincode mapping dataset:"
   ]
  },
  {
   "cell_type": "code",
   "execution_count": 6,
   "metadata": {},
   "outputs": [
    {
     "name": "stdout",
     "output_type": "stream",
     "text": [
      "     Order ID  Customer Pincode Type of Shipment  Warehouse Pincode Zone\n",
      "0  2001806232            507101  Forward charges             121003    d\n",
      "1  2001806273            486886  Forward charges             121003    d\n",
      "2  2001806408            532484  Forward charges             121003    d\n",
      "3  2001806458            143001  Forward charges             121003    b\n",
      "4  2001807012            515591  Forward charges             121003    d\n"
     ]
    }
   ],
   "source": [
    "abc_courier = pincode_mapping.drop_duplicates(subset=['Customer Pincode'])\n",
    "courier_abc = courier_invoice[['Order ID', 'Customer Pincode', 'Type of Shipment']]\n",
    "pincodes = courier_abc.merge(abc_courier, on='Customer Pincode')\n",
    "print(pincodes.head())"
   ]
  },
  {
   "cell_type": "markdown",
   "metadata": {},
   "source": [
    "Below is how the above code work:\n",
    "1. We first extract the unique customer pin codes from the pincode mapping dataset and create a new DataFrame called \"abc_courier\" to store this information\n",
    "2. We then select specific columns (\"Order ID\", \"Customer Pincode\", \"Type of Shipment\") from the courier_invoice dataset and create a new DataFrame called \"courier_abc\" to store this subset of data\n",
    "3. We then merge the 'courier_abc' DataFrame with the 'abc_courier' DataFrame based on the 'Customer Pincode' column. This merge operation helps us associate customer pin codes with their respective orders. and shipping types. The resulting DataFrame is named 'pincodes'"
   ]
  },
  {
   "cell_type": "markdown",
   "metadata": {},
   "source": [
    "Now let's merge the pin codes with the main dataframe"
   ]
  },
  {
   "cell_type": "code",
   "execution_count": 7,
   "metadata": {},
   "outputs": [],
   "source": [
    "merged2 = merged_data.merge(pincodes, on='Order ID')"
   ]
  },
  {
   "cell_type": "markdown",
   "metadata": {},
   "source": [
    "Now let's calculate the weight in kilograms by dividing the 'Weight (g)' column in the 'merged2' DataFrame by 1000"
   ]
  },
  {
   "cell_type": "code",
   "execution_count": 8,
   "metadata": {},
   "outputs": [],
   "source": [
    "merged2['Weight (Kgs)'] = merged2['Weight (g)'] / 1000"
   ]
  },
  {
   "cell_type": "markdown",
   "metadata": {},
   "source": [
    "Now let's calculate the weight slabs:"
   ]
  },
  {
   "cell_type": "code",
   "execution_count": 9,
   "metadata": {},
   "outputs": [],
   "source": [
    "def weight_slab(weight):\n",
    "    i = round(weight % 1, 1)\n",
    "    if i == 0.0:\n",
    "        return weight\n",
    "    elif i > 0.5:\n",
    "        return int(weight) + 1.0\n",
    "    else:\n",
    "        return int(weight) + 0.5\n",
    "    \n",
    "merged2['Weight Slab (KG)'] = merged2['Weight (Kgs)'].apply(weight_slab)\n",
    "courier_invoice['Weight Slab Charged by Courier Company']=(courier_invoice['Charged Weight']).apply(weight_slab)"
   ]
  },
  {
   "cell_type": "markdown",
   "metadata": {},
   "source": [
    "The weight_slab() function is defined to determine the weight slab based on the weight of the shipment. It takes the input weight and applies certain conditions to calculate the weight slab. Below is how it works:\n",
    "1. The function first calculates the remainder of the weight divided by 1 and rounds it to one decimal place. If the remainder is 0.0, it means the weight is a multiple of 1KG, and the function returns the weight as it is\n",
    "2. If the remainder is greater than 0.5, it means that the weight exceeds the next half KG slab. In this case, the fuction rounds the weight to the nearest integer and adds 1.0 to it, which represents the next heavier slab\n",
    "3. If the remainder is less than or equal to 0.5, it means the weight falls into the current half-KG bracket. In this case, the fuctions rounds the weight to the nearest integer and adds 0.5 to it, which represents the current weight slab.\n",
    "\n",
    "Now let's rename the columns to prepare the desired dataframe:"
   ]
  },
  {
   "cell_type": "code",
   "execution_count": 10,
   "metadata": {},
   "outputs": [],
   "source": [
    "courier_invoice = courier_invoice.rename(columns={'Zone': 'Delivery Zone Charged by Courier Company'})\n",
    "merged2 = merged2.rename(columns={'Zone': 'Delivery Zone As Per ABC'})\n",
    "merged2 = merged2.rename(columns={'Weight Slab (KG)': 'Weight Slab As Per ABC'})"
   ]
  },
  {
   "cell_type": "code",
   "execution_count": 11,
   "metadata": {},
   "outputs": [
    {
     "name": "stdout",
     "output_type": "stream",
     "text": [
      "     Order ID            SKU  Order Qty  Weight (g)  Customer Pincode  \\\n",
      "0  2001827036  8904223818706        1.0         127            173213   \n",
      "1  2001827036  8904223819093        1.0         150            173213   \n",
      "2  2001827036  8904223819109        1.0         100            173213   \n",
      "3  2001827036  8904223818430        1.0         165            173213   \n",
      "4  2001827036  8904223819277        1.0         350            173213   \n",
      "\n",
      "  Type of Shipment  Warehouse Pincode Delivery Zone As Per ABC  Weight (Kgs)  \\\n",
      "0  Forward charges             121003                        e         0.127   \n",
      "1  Forward charges             121003                        e         0.150   \n",
      "2  Forward charges             121003                        e         0.100   \n",
      "3  Forward charges             121003                        e         0.165   \n",
      "4  Forward charges             121003                        e         0.350   \n",
      "\n",
      "   Weight Slab As Per ABC  Expected Charge as per ABC  \n",
      "0                     0.5                        56.6  \n",
      "1                     0.5                        56.6  \n",
      "2                     0.5                        56.6  \n",
      "3                     0.5                        56.6  \n",
      "4                     0.5                        56.6  \n"
     ]
    }
   ],
   "source": [
    "total_expected_charge = []\n",
    "\n",
    "for _, row in merged2.iterrows():\n",
    "    fwd_category = 'fwd_' + row['Delivery Zone As Per ABC']\n",
    "    fwd_fixed = courier_company_rates.at[0, fwd_category + '_fixed']\n",
    "    fwd_additional = courier_company_rates.at[0, fwd_category + '_additional']\n",
    "    rto_category = 'rto_' + row['Delivery Zone As Per ABC']\n",
    "    rto_fixed = courier_company_rates.at[0, rto_category + '_fixed']\n",
    "    rto_additional = courier_company_rates.at[0, rto_category + '_additional']\n",
    "\n",
    "    weight_slab = row['Weight Slab As Per ABC']\n",
    "\n",
    "    if row['Type of Shipment'] == 'Forward charges':\n",
    "        additional_weight = max(0, (weight_slab - 0.5) / 0.5)\n",
    "        total_expected_charge.append(fwd_fixed + additional_weight * fwd_additional)\n",
    "    elif row['Type of Shipment'] == 'Forward and RTO charges':\n",
    "        additional_weight = max(0, (weight_slab - 0.5) / 0.5)\n",
    "        total_expected_charge.append(fwd_fixed + additional_weight * (fwd_additional + rto_additional))\n",
    "    else:\n",
    "        total_expected_charge.append(0)\n",
    "\n",
    "merged2['Expected Charge as per ABC'] = total_expected_charge\n",
    "print(merged2.head())"
   ]
  },
  {
   "cell_type": "markdown",
   "metadata": {},
   "source": [
    "Now let's calculate the expected charges"
   ]
  },
  {
   "cell_type": "code",
   "execution_count": 12,
   "metadata": {},
   "outputs": [
    {
     "name": "stdout",
     "output_type": "stream",
     "text": [
      "     Order ID            SKU  Order Qty  Weight (g)  Customer Pincode  \\\n",
      "0  2001827036  8904223818706        1.0         127            173213   \n",
      "1  2001827036  8904223819093        1.0         150            173213   \n",
      "2  2001827036  8904223819109        1.0         100            173213   \n",
      "3  2001827036  8904223818430        1.0         165            173213   \n",
      "4  2001827036  8904223819277        1.0         350            173213   \n",
      "\n",
      "  Type of Shipment  Warehouse Pincode Delivery Zone As Per ABC  Weight (Kgs)  \\\n",
      "0  Forward charges             121003                        e         0.127   \n",
      "1  Forward charges             121003                        e         0.150   \n",
      "2  Forward charges             121003                        e         0.100   \n",
      "3  Forward charges             121003                        e         0.165   \n",
      "4  Forward charges             121003                        e         0.350   \n",
      "\n",
      "   Weight Slab As Per ABC  Expected Charge as per ABC  \n",
      "0                     0.5                        56.6  \n",
      "1                     0.5                        56.6  \n",
      "2                     0.5                        56.6  \n",
      "3                     0.5                        56.6  \n",
      "4                     0.5                        56.6  \n"
     ]
    }
   ],
   "source": [
    "total_expected_charge = []\n",
    "\n",
    "for _, row in merged2.iterrows():\n",
    "    fwd_category = 'fwd_' + row['Delivery Zone As Per ABC']\n",
    "    fwd_fixed = courier_company_rates.at[0, fwd_category + '_fixed']\n",
    "    fwd_additional = courier_company_rates.at[0, fwd_category + '_additional']\n",
    "    rto_category = 'rto_' + row['Delivery Zone As Per ABC']\n",
    "    rto_fixed = courier_company_rates.at[0, rto_category + '_fixed']\n",
    "    rto_additional = courier_company_rates.at[0, rto_category + '_additional']\n",
    "    \n",
    "    weight_slab = row['Weight Slab As Per ABC']\n",
    "    \n",
    "    if row['Type of Shipment'] == 'Forward charges':\n",
    "        additional_weigth = max(0, (weight_slab - 0.5) / 0.5)\n",
    "        total_expected_charge.append(fwd_fixed + additional_weight * fwd_additional)\n",
    "    elif row['Type of Shipment'] == 'Forward and RTO charges':\n",
    "        additional_weight = max(0, (weight_slab - 0.5) / 0.5)\n",
    "        total_expected_charge.append(fwd_fixed + additional_weight * (fwd_additional + rto_additional))\n",
    "    else:\n",
    "        total_expected_charge.append(0)\n",
    "\n",
    "merged2['Expected Charge as per ABC'] = total_expected_charge\n",
    "print(merged2.head())\n",
    "        "
   ]
  },
  {
   "cell_type": "markdown",
   "metadata": {},
   "source": [
    "Below is how above code works:\n",
    "1. In this code, we loop through each row of the 'merged2' DataFrame to calculate the expected charges based on ABC's tariffs. We retrieve the necessary rates and parameters, such as fixed charges and surcharges per weight tier for forward and RTO shipments, based on the delivery area.\n",
    "2. We then determine the weight of the slab for each row. If the shipment type is 'Forward Charges', we calculate the additional weight beyond the basic weight slab (0.5 KG) and apply the corresponding additional charges. For \"Forward and RTO Charges\" shipments, we consider additional charges term and RTO components\n",
    "3. Finally, we store the calculated expected charges in the \"Expected charges according to ABC\" column of the \"merged2\" DataFrame. This allows us to compare the expected charges with the charges billed to analyze the accuracy of the courier company's charges"
   ]
  },
  {
   "cell_type": "markdown",
   "metadata": {},
   "source": [
    "Now let's merge it with the courier invoice to display the final dataframe"
   ]
  },
  {
   "cell_type": "code",
   "execution_count": 13,
   "metadata": {},
   "outputs": [
    {
     "name": "stdout",
     "output_type": "stream",
     "text": [
      "     Order ID            SKU  Order Qty  Weight (g)  Customer Pincode_x  \\\n",
      "0  2001827036  8904223818706        1.0         127              173213   \n",
      "1  2001827036  8904223819093        1.0         150              173213   \n",
      "2  2001827036  8904223819109        1.0         100              173213   \n",
      "3  2001827036  8904223818430        1.0         165              173213   \n",
      "4  2001827036  8904223819277        1.0         350              173213   \n",
      "\n",
      "  Type of Shipment_x  Warehouse Pincode_x Delivery Zone As Per ABC  \\\n",
      "0    Forward charges               121003                        e   \n",
      "1    Forward charges               121003                        e   \n",
      "2    Forward charges               121003                        e   \n",
      "3    Forward charges               121003                        e   \n",
      "4    Forward charges               121003                        e   \n",
      "\n",
      "   Weight (Kgs)  Weight Slab As Per ABC  Expected Charge as per ABC  \\\n",
      "0         0.127                     0.5                        56.6   \n",
      "1         0.150                     0.5                        56.6   \n",
      "2         0.100                     0.5                        56.6   \n",
      "3         0.165                     0.5                        56.6   \n",
      "4         0.350                     0.5                        56.6   \n",
      "\n",
      "        AWB Code  Charged Weight  Warehouse Pincode_y  Customer Pincode_y  \\\n",
      "0  1091122418320             1.6               121003              173213   \n",
      "1  1091122418320             1.6               121003              173213   \n",
      "2  1091122418320             1.6               121003              173213   \n",
      "3  1091122418320             1.6               121003              173213   \n",
      "4  1091122418320             1.6               121003              173213   \n",
      "\n",
      "  Delivery Zone Charged by Courier Company Type of Shipment_y  \\\n",
      "0                                        b    Forward charges   \n",
      "1                                        b    Forward charges   \n",
      "2                                        b    Forward charges   \n",
      "3                                        b    Forward charges   \n",
      "4                                        b    Forward charges   \n",
      "\n",
      "   Billing Amount (Rs.)  Weight Slab Charged by Courier Company  \n",
      "0                 117.9                                     2.0  \n",
      "1                 117.9                                     2.0  \n",
      "2                 117.9                                     2.0  \n",
      "3                 117.9                                     2.0  \n",
      "4                 117.9                                     2.0  \n"
     ]
    }
   ],
   "source": [
    "merged_output = merged2.merge(courier_invoice, on='Order ID')\n",
    "print(merged_output.head())"
   ]
  },
  {
   "cell_type": "markdown",
   "metadata": {},
   "source": [
    "Now let's calculate the differences in charges and expected charges for each order:"
   ]
  },
  {
   "cell_type": "code",
   "execution_count": 14,
   "metadata": {},
   "outputs": [
    {
     "name": "stdout",
     "output_type": "stream",
     "text": [
      "     Order ID  Difference (Rs.)  Expected Charge as per ABC\n",
      "0  2001827036              61.3                        56.6\n",
      "1  2001827036              61.3                        56.6\n",
      "2  2001827036              61.3                        56.6\n",
      "3  2001827036              61.3                        56.6\n",
      "4  2001827036              61.3                        56.6\n"
     ]
    }
   ],
   "source": [
    "df_diff = merged_output\n",
    "df_diff['Difference (Rs.)'] = df_diff['Billing Amount (Rs.)'] - df_diff['Expected Charge as per ABC']\n",
    "\n",
    "df_new = df_diff[['Order ID', 'Difference (Rs.)', 'Expected Charge as per ABC']]\n",
    "\n",
    "print(df_new.head())"
   ]
  },
  {
   "cell_type": "markdown",
   "metadata": {},
   "source": [
    "Now let's summarize the accuracy of B2B courier charges based on the charged prices and expected prices:"
   ]
  },
  {
   "cell_type": "code",
   "execution_count": 15,
   "metadata": {},
   "outputs": [
    {
     "name": "stdout",
     "output_type": "stream",
     "text": [
      "                                         Description  Count  Amount (Rs.)\n",
      "0  Total Orders where ABC has been correctly charged     12         507.6\n",
      "1        Total Orders where ABC has been overcharged    382       33823.6\n",
      "2       Total Orders where ABC has been undercharged      7        -165.2\n"
     ]
    }
   ],
   "source": [
    "# Calculate the total orders in each category\n",
    "total_correctly_charged = len(df_new[df_new['Difference (Rs.)'] == 0])\n",
    "total_overcharged = len(df_new[df_new['Difference (Rs.)'] > 0])\n",
    "total_undercharged = len(df_new[df_new['Difference (Rs.)'] < 0])\n",
    "\n",
    "# Calculate the total amount in each category\n",
    "amount_overcharged = abs(df_new[df_new['Difference (Rs.)'] > 0] ['Difference (Rs.)'].sum())\n",
    "amount_undercharged = df_new[df_new['Difference (Rs.)'] < 0] ['Difference (Rs.)'].sum()\n",
    "amount_correctly_charged = df_new[df_new['Difference (Rs.)'] == 0] ['Expected Charge as per ABC'].sum()\n",
    "\n",
    "# Create a new DataFrame for the Summary\n",
    "summary_data = {'Description': ['Total Orders where ABC has been correctly charged',\n",
    "                                'Total Orders where ABC has been overcharged',\n",
    "                                'Total Orders where ABC has been undercharged'],\n",
    "                'Count': [total_correctly_charged, total_overcharged, total_undercharged],\n",
    "                'Amount (Rs.)': [amount_correctly_charged, amount_overcharged, amount_undercharged]}\n",
    "\n",
    "df_summary = pd.DataFrame(summary_data)\n",
    "\n",
    "print(df_summary)"
   ]
  },
  {
   "cell_type": "markdown",
   "metadata": {},
   "source": [
    "We can also visualize the proportion of errors as shown below:\n"
   ]
  },
  {
   "cell_type": "code",
   "execution_count": 16,
   "metadata": {},
   "outputs": [
    {
     "data": {
      "application/vnd.plotly.v1+json": {
       "config": {
        "plotlyServerURL": "https://plot.ly"
       },
       "data": [
        {
         "hole": 0.4,
         "labels": [
          "Total Orders where ABC has been correctly charged",
          "Total Orders where ABC has been overcharged",
          "Total Orders where ABC has been undercharged"
         ],
         "textinfo": "label+percent",
         "type": "pie",
         "values": [
          12,
          382,
          7
         ]
        }
       ],
       "layout": {
        "template": {
         "data": {
          "bar": [
           {
            "error_x": {
             "color": "#2a3f5f"
            },
            "error_y": {
             "color": "#2a3f5f"
            },
            "marker": {
             "line": {
              "color": "#E5ECF6",
              "width": 0.5
             },
             "pattern": {
              "fillmode": "overlay",
              "size": 10,
              "solidity": 0.2
             }
            },
            "type": "bar"
           }
          ],
          "barpolar": [
           {
            "marker": {
             "line": {
              "color": "#E5ECF6",
              "width": 0.5
             },
             "pattern": {
              "fillmode": "overlay",
              "size": 10,
              "solidity": 0.2
             }
            },
            "type": "barpolar"
           }
          ],
          "carpet": [
           {
            "aaxis": {
             "endlinecolor": "#2a3f5f",
             "gridcolor": "white",
             "linecolor": "white",
             "minorgridcolor": "white",
             "startlinecolor": "#2a3f5f"
            },
            "baxis": {
             "endlinecolor": "#2a3f5f",
             "gridcolor": "white",
             "linecolor": "white",
             "minorgridcolor": "white",
             "startlinecolor": "#2a3f5f"
            },
            "type": "carpet"
           }
          ],
          "choropleth": [
           {
            "colorbar": {
             "outlinewidth": 0,
             "ticks": ""
            },
            "type": "choropleth"
           }
          ],
          "contour": [
           {
            "colorbar": {
             "outlinewidth": 0,
             "ticks": ""
            },
            "colorscale": [
             [
              0,
              "#0d0887"
             ],
             [
              0.1111111111111111,
              "#46039f"
             ],
             [
              0.2222222222222222,
              "#7201a8"
             ],
             [
              0.3333333333333333,
              "#9c179e"
             ],
             [
              0.4444444444444444,
              "#bd3786"
             ],
             [
              0.5555555555555556,
              "#d8576b"
             ],
             [
              0.6666666666666666,
              "#ed7953"
             ],
             [
              0.7777777777777778,
              "#fb9f3a"
             ],
             [
              0.8888888888888888,
              "#fdca26"
             ],
             [
              1,
              "#f0f921"
             ]
            ],
            "type": "contour"
           }
          ],
          "contourcarpet": [
           {
            "colorbar": {
             "outlinewidth": 0,
             "ticks": ""
            },
            "type": "contourcarpet"
           }
          ],
          "heatmap": [
           {
            "colorbar": {
             "outlinewidth": 0,
             "ticks": ""
            },
            "colorscale": [
             [
              0,
              "#0d0887"
             ],
             [
              0.1111111111111111,
              "#46039f"
             ],
             [
              0.2222222222222222,
              "#7201a8"
             ],
             [
              0.3333333333333333,
              "#9c179e"
             ],
             [
              0.4444444444444444,
              "#bd3786"
             ],
             [
              0.5555555555555556,
              "#d8576b"
             ],
             [
              0.6666666666666666,
              "#ed7953"
             ],
             [
              0.7777777777777778,
              "#fb9f3a"
             ],
             [
              0.8888888888888888,
              "#fdca26"
             ],
             [
              1,
              "#f0f921"
             ]
            ],
            "type": "heatmap"
           }
          ],
          "heatmapgl": [
           {
            "colorbar": {
             "outlinewidth": 0,
             "ticks": ""
            },
            "colorscale": [
             [
              0,
              "#0d0887"
             ],
             [
              0.1111111111111111,
              "#46039f"
             ],
             [
              0.2222222222222222,
              "#7201a8"
             ],
             [
              0.3333333333333333,
              "#9c179e"
             ],
             [
              0.4444444444444444,
              "#bd3786"
             ],
             [
              0.5555555555555556,
              "#d8576b"
             ],
             [
              0.6666666666666666,
              "#ed7953"
             ],
             [
              0.7777777777777778,
              "#fb9f3a"
             ],
             [
              0.8888888888888888,
              "#fdca26"
             ],
             [
              1,
              "#f0f921"
             ]
            ],
            "type": "heatmapgl"
           }
          ],
          "histogram": [
           {
            "marker": {
             "pattern": {
              "fillmode": "overlay",
              "size": 10,
              "solidity": 0.2
             }
            },
            "type": "histogram"
           }
          ],
          "histogram2d": [
           {
            "colorbar": {
             "outlinewidth": 0,
             "ticks": ""
            },
            "colorscale": [
             [
              0,
              "#0d0887"
             ],
             [
              0.1111111111111111,
              "#46039f"
             ],
             [
              0.2222222222222222,
              "#7201a8"
             ],
             [
              0.3333333333333333,
              "#9c179e"
             ],
             [
              0.4444444444444444,
              "#bd3786"
             ],
             [
              0.5555555555555556,
              "#d8576b"
             ],
             [
              0.6666666666666666,
              "#ed7953"
             ],
             [
              0.7777777777777778,
              "#fb9f3a"
             ],
             [
              0.8888888888888888,
              "#fdca26"
             ],
             [
              1,
              "#f0f921"
             ]
            ],
            "type": "histogram2d"
           }
          ],
          "histogram2dcontour": [
           {
            "colorbar": {
             "outlinewidth": 0,
             "ticks": ""
            },
            "colorscale": [
             [
              0,
              "#0d0887"
             ],
             [
              0.1111111111111111,
              "#46039f"
             ],
             [
              0.2222222222222222,
              "#7201a8"
             ],
             [
              0.3333333333333333,
              "#9c179e"
             ],
             [
              0.4444444444444444,
              "#bd3786"
             ],
             [
              0.5555555555555556,
              "#d8576b"
             ],
             [
              0.6666666666666666,
              "#ed7953"
             ],
             [
              0.7777777777777778,
              "#fb9f3a"
             ],
             [
              0.8888888888888888,
              "#fdca26"
             ],
             [
              1,
              "#f0f921"
             ]
            ],
            "type": "histogram2dcontour"
           }
          ],
          "mesh3d": [
           {
            "colorbar": {
             "outlinewidth": 0,
             "ticks": ""
            },
            "type": "mesh3d"
           }
          ],
          "parcoords": [
           {
            "line": {
             "colorbar": {
              "outlinewidth": 0,
              "ticks": ""
             }
            },
            "type": "parcoords"
           }
          ],
          "pie": [
           {
            "automargin": true,
            "type": "pie"
           }
          ],
          "scatter": [
           {
            "fillpattern": {
             "fillmode": "overlay",
             "size": 10,
             "solidity": 0.2
            },
            "type": "scatter"
           }
          ],
          "scatter3d": [
           {
            "line": {
             "colorbar": {
              "outlinewidth": 0,
              "ticks": ""
             }
            },
            "marker": {
             "colorbar": {
              "outlinewidth": 0,
              "ticks": ""
             }
            },
            "type": "scatter3d"
           }
          ],
          "scattercarpet": [
           {
            "marker": {
             "colorbar": {
              "outlinewidth": 0,
              "ticks": ""
             }
            },
            "type": "scattercarpet"
           }
          ],
          "scattergeo": [
           {
            "marker": {
             "colorbar": {
              "outlinewidth": 0,
              "ticks": ""
             }
            },
            "type": "scattergeo"
           }
          ],
          "scattergl": [
           {
            "marker": {
             "colorbar": {
              "outlinewidth": 0,
              "ticks": ""
             }
            },
            "type": "scattergl"
           }
          ],
          "scattermapbox": [
           {
            "marker": {
             "colorbar": {
              "outlinewidth": 0,
              "ticks": ""
             }
            },
            "type": "scattermapbox"
           }
          ],
          "scatterpolar": [
           {
            "marker": {
             "colorbar": {
              "outlinewidth": 0,
              "ticks": ""
             }
            },
            "type": "scatterpolar"
           }
          ],
          "scatterpolargl": [
           {
            "marker": {
             "colorbar": {
              "outlinewidth": 0,
              "ticks": ""
             }
            },
            "type": "scatterpolargl"
           }
          ],
          "scatterternary": [
           {
            "marker": {
             "colorbar": {
              "outlinewidth": 0,
              "ticks": ""
             }
            },
            "type": "scatterternary"
           }
          ],
          "surface": [
           {
            "colorbar": {
             "outlinewidth": 0,
             "ticks": ""
            },
            "colorscale": [
             [
              0,
              "#0d0887"
             ],
             [
              0.1111111111111111,
              "#46039f"
             ],
             [
              0.2222222222222222,
              "#7201a8"
             ],
             [
              0.3333333333333333,
              "#9c179e"
             ],
             [
              0.4444444444444444,
              "#bd3786"
             ],
             [
              0.5555555555555556,
              "#d8576b"
             ],
             [
              0.6666666666666666,
              "#ed7953"
             ],
             [
              0.7777777777777778,
              "#fb9f3a"
             ],
             [
              0.8888888888888888,
              "#fdca26"
             ],
             [
              1,
              "#f0f921"
             ]
            ],
            "type": "surface"
           }
          ],
          "table": [
           {
            "cells": {
             "fill": {
              "color": "#EBF0F8"
             },
             "line": {
              "color": "white"
             }
            },
            "header": {
             "fill": {
              "color": "#C8D4E3"
             },
             "line": {
              "color": "white"
             }
            },
            "type": "table"
           }
          ]
         },
         "layout": {
          "annotationdefaults": {
           "arrowcolor": "#2a3f5f",
           "arrowhead": 0,
           "arrowwidth": 1
          },
          "autotypenumbers": "strict",
          "coloraxis": {
           "colorbar": {
            "outlinewidth": 0,
            "ticks": ""
           }
          },
          "colorscale": {
           "diverging": [
            [
             0,
             "#8e0152"
            ],
            [
             0.1,
             "#c51b7d"
            ],
            [
             0.2,
             "#de77ae"
            ],
            [
             0.3,
             "#f1b6da"
            ],
            [
             0.4,
             "#fde0ef"
            ],
            [
             0.5,
             "#f7f7f7"
            ],
            [
             0.6,
             "#e6f5d0"
            ],
            [
             0.7,
             "#b8e186"
            ],
            [
             0.8,
             "#7fbc41"
            ],
            [
             0.9,
             "#4d9221"
            ],
            [
             1,
             "#276419"
            ]
           ],
           "sequential": [
            [
             0,
             "#0d0887"
            ],
            [
             0.1111111111111111,
             "#46039f"
            ],
            [
             0.2222222222222222,
             "#7201a8"
            ],
            [
             0.3333333333333333,
             "#9c179e"
            ],
            [
             0.4444444444444444,
             "#bd3786"
            ],
            [
             0.5555555555555556,
             "#d8576b"
            ],
            [
             0.6666666666666666,
             "#ed7953"
            ],
            [
             0.7777777777777778,
             "#fb9f3a"
            ],
            [
             0.8888888888888888,
             "#fdca26"
            ],
            [
             1,
             "#f0f921"
            ]
           ],
           "sequentialminus": [
            [
             0,
             "#0d0887"
            ],
            [
             0.1111111111111111,
             "#46039f"
            ],
            [
             0.2222222222222222,
             "#7201a8"
            ],
            [
             0.3333333333333333,
             "#9c179e"
            ],
            [
             0.4444444444444444,
             "#bd3786"
            ],
            [
             0.5555555555555556,
             "#d8576b"
            ],
            [
             0.6666666666666666,
             "#ed7953"
            ],
            [
             0.7777777777777778,
             "#fb9f3a"
            ],
            [
             0.8888888888888888,
             "#fdca26"
            ],
            [
             1,
             "#f0f921"
            ]
           ]
          },
          "colorway": [
           "#636efa",
           "#EF553B",
           "#00cc96",
           "#ab63fa",
           "#FFA15A",
           "#19d3f3",
           "#FF6692",
           "#B6E880",
           "#FF97FF",
           "#FECB52"
          ],
          "font": {
           "color": "#2a3f5f"
          },
          "geo": {
           "bgcolor": "white",
           "lakecolor": "white",
           "landcolor": "#E5ECF6",
           "showlakes": true,
           "showland": true,
           "subunitcolor": "white"
          },
          "hoverlabel": {
           "align": "left"
          },
          "hovermode": "closest",
          "mapbox": {
           "style": "light"
          },
          "paper_bgcolor": "white",
          "plot_bgcolor": "#E5ECF6",
          "polar": {
           "angularaxis": {
            "gridcolor": "white",
            "linecolor": "white",
            "ticks": ""
           },
           "bgcolor": "#E5ECF6",
           "radialaxis": {
            "gridcolor": "white",
            "linecolor": "white",
            "ticks": ""
           }
          },
          "scene": {
           "xaxis": {
            "backgroundcolor": "#E5ECF6",
            "gridcolor": "white",
            "gridwidth": 2,
            "linecolor": "white",
            "showbackground": true,
            "ticks": "",
            "zerolinecolor": "white"
           },
           "yaxis": {
            "backgroundcolor": "#E5ECF6",
            "gridcolor": "white",
            "gridwidth": 2,
            "linecolor": "white",
            "showbackground": true,
            "ticks": "",
            "zerolinecolor": "white"
           },
           "zaxis": {
            "backgroundcolor": "#E5ECF6",
            "gridcolor": "white",
            "gridwidth": 2,
            "linecolor": "white",
            "showbackground": true,
            "ticks": "",
            "zerolinecolor": "white"
           }
          },
          "shapedefaults": {
           "line": {
            "color": "#2a3f5f"
           }
          },
          "ternary": {
           "aaxis": {
            "gridcolor": "white",
            "linecolor": "white",
            "ticks": ""
           },
           "baxis": {
            "gridcolor": "white",
            "linecolor": "white",
            "ticks": ""
           },
           "bgcolor": "#E5ECF6",
           "caxis": {
            "gridcolor": "white",
            "linecolor": "white",
            "ticks": ""
           }
          },
          "title": {
           "x": 0.05
          },
          "xaxis": {
           "automargin": true,
           "gridcolor": "white",
           "linecolor": "white",
           "ticks": "",
           "title": {
            "standoff": 15
           },
           "zerolinecolor": "white",
           "zerolinewidth": 2
          },
          "yaxis": {
           "automargin": true,
           "gridcolor": "white",
           "linecolor": "white",
           "ticks": "",
           "title": {
            "standoff": 15
           },
           "zerolinecolor": "white",
           "zerolinewidth": 2
          }
         }
        },
        "title": {
         "text": "Proportion"
        }
       }
      }
     },
     "metadata": {},
     "output_type": "display_data"
    }
   ],
   "source": [
    "import plotly.graph_objects as go\n",
    "fig  = go.Figure(data=go.Pie(labels=df_summary['Description'],\n",
    "                             values=df_summary['Count'],\n",
    "                             textinfo='label+percent',\n",
    "                             hole=0.4))\n",
    "\n",
    "fig.update_layout(title='Proportion')\n",
    "\n",
    "fig.show()"
   ]
  },
  {
   "cell_type": "markdown",
   "metadata": {},
   "source": [
    "## Summary\n",
    "\n",
    "B2B courier charges accuracy analysis focuses on assessing the accuracy of fees charged by courier companies for the delivery of goods in B2B transactions. In such problems, we aim to ensure that companies are billed appropriately for the services provided by courier companies"
   ]
  }
 ],
 "metadata": {
  "kernelspec": {
   "display_name": "Python 3",
   "language": "python",
   "name": "python3"
  },
  "language_info": {
   "codemirror_mode": {
    "name": "ipython",
    "version": 3
   },
   "file_extension": ".py",
   "mimetype": "text/x-python",
   "name": "python",
   "nbconvert_exporter": "python",
   "pygments_lexer": "ipython3",
   "version": "3.12.2"
  }
 },
 "nbformat": 4,
 "nbformat_minor": 2
}
